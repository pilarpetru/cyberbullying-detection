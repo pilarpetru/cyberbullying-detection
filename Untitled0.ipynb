{
  "nbformat": 4,
  "nbformat_minor": 0,
  "metadata": {
    "colab": {
      "name": "Untitled0.ipynb",
      "provenance": []
    },
    "kernelspec": {
      "name": "python3",
      "display_name": "Python 3"
    },
    "language_info": {
      "name": "python"
    }
  },
  "cells": [
    {
      "cell_type": "markdown",
      "source": [
        "Obtención de los datos"
      ],
      "metadata": {
        "id": "3nSLbcOX07Ym"
      }
    },
    {
      "cell_type": "code",
      "execution_count": null,
      "metadata": {
        "id": "_eGsWExU06NM"
      },
      "outputs": [],
      "source": [
        "import pandas as pd\n",
        "import requests\n",
        "import json\n",
        "import numpy as np\n",
        "import re\n",
        "\n",
        "# para la tabla\n",
        "from tabulate import tabulate\n",
        "\n",
        "# Bearer Token\n",
        "bearer_token = $bearer_token$"
      ]
    },
    {
      "cell_type": "code",
      "source": [
        "# función autenticación\n",
        "def bearer_oauth(r):\n",
        "  r.headers['Authorization'] = f\"Bearer {bearer_token}\"\n",
        "  r.headers['User-Agent'] = \"pilar\"\n",
        "  return r"
      ],
      "metadata": {
        "id": "2tD-VfAL1Ew5"
      },
      "execution_count": null,
      "outputs": []
    },
    {
      "cell_type": "code",
      "source": [
        ""
      ],
      "metadata": {
        "id": "L-ZqbHHA1P3o"
      },
      "execution_count": null,
      "outputs": []
    }
  ]
}